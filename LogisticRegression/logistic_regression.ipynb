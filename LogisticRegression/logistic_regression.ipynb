{
 "cells": [
  {
   "cell_type": "markdown",
   "metadata": {},
   "source": [
    "### Questions 7 Logistic Regression Implementation:       \n",
    "\n",
    "a) Write down a code in Python whose input is a training dataset{(x1,y1),...,(xN,yN)}and its output is the weight vector w and bias b in the logistic regression model y=σ(w>x+b).  The method must use the gradient descent approach, presented in the class.     \n",
    "\n",
    "b) Download the dataset of the HW02 on the piazza page. The dataset is in Matlab format (.mat);you can use scipy.io.savemat to convert it to python format (.npy).  Run the code on the training dataset to compute w, b and evaluate on the test dataset.   Report the classification error on the training set and classification error on the test set.  Plot the data (use different colors for data indifferent classes) and plot the decision boundary found by the logistic regressions."
   ]
  },
  {
   "cell_type": "code",
   "execution_count": 29,
   "metadata": {},
   "outputs": [],
   "source": [
    "import scipy.io as sio\n",
    "import numpy as np\n",
    "import matplotlib.pyplot as plt \n",
    "from sklearn.linear_model import LogisticRegression\n",
    "from sklearn.datasets import make_classification\n",
    "from sklearn.naive_bayes import GaussianNB\n",
    "from sklearn import metrics\n",
    "from mlxtend.plotting import plot_decision_regions\n",
    "import warnings\n",
    "warnings.filterwarnings('ignore')"
   ]
  },
  {
   "cell_type": "code",
   "execution_count": 30,
   "metadata": {},
   "outputs": [],
   "source": [
    "# Convert the dataset from mat to .npy format\n",
    "\n",
    "data = sio.loadmat(\"hw02_dataset.mat\")\n",
    "X_train = data['X_trn']\n",
    "X_test = data['X_tst']\n",
    "Y_train = data['Y_trn']\n",
    "Y_test = data['Y_tst']"
   ]
  },
  {
   "cell_type": "code",
   "execution_count": 31,
   "metadata": {},
   "outputs": [
    {
     "name": "stdout",
     "output_type": "stream",
     "text": [
      "(126, 2)\n",
      "(126, 1)\n",
      "(14, 2)\n",
      "(14, 1)\n"
     ]
    }
   ],
   "source": [
    "print(X_train.shape)\n",
    "print(Y_train.shape)\n",
    "print(X_test.shape)\n",
    "print(Y_test.shape)"
   ]
  },
  {
   "cell_type": "code",
   "execution_count": 32,
   "metadata": {},
   "outputs": [],
   "source": [
    "class Logistic_Regression:\n",
    "    \n",
    "    def __init__(self, lr=0.01, iters=100):\n",
    "        self.lr = lr\n",
    "        self.iters = iters\n",
    "        self.weights = None\n",
    "        self.bias = None\n",
    "        \n",
    "        \n",
    "    def sigmoid(self, x):\n",
    "        sigmoid = 1/(1 + np.exp(-x))\n",
    "        return sigmoid\n",
    "    \n",
    "    \n",
    "    def predict(self, X):\n",
    "        hypothesis_x = np.dot(X, self.weights) + self.bias\n",
    "        pred_y = self.sigmoid(hypothesis_x)\n",
    "        pred_y_class = [1 if i > 0.5 else 0 for i in pred_y]\n",
    "        return np.array(pred_y_class)\n",
    "    \n",
    "    \n",
    "    def accuracy(self, y_true, y_pred):\n",
    "        accuracy = np.sum(y_true == y_pred) / len(y_true)\n",
    "        return accuracy\n",
    "    \n",
    "    \n",
    "    def classification_error(self, y_true, y_pred):\n",
    "        error = np.sum(y_true != y_pred) / len(y_true)\n",
    "        return error\n",
    "\n",
    "    \n",
    "    def gradient_descent(self, X, y):\n",
    "        \n",
    "        m, n = X.shape   # m:no. of samples, n: no. of features\n",
    "        \n",
    "        # Initialize weights and bias\n",
    "        self.weights = np.zeros(n)  # shape:(2,)\n",
    "        self.weights = self.weights.reshape(n, 1)\n",
    "        self.bias = 0\n",
    "        for i in range(self.iters):\n",
    "\n",
    "            # Get the linear combination of weights, features and bias\n",
    "            hypothesis_x = np.dot(X, self.weights) + self.bias   # h(x) = wx + b\n",
    "            hypothesis_x = hypothesis_x.reshape(m, 1)\n",
    "            \n",
    "            # Apply sigmoid to get the probability\n",
    "            pred_y = self.sigmoid(hypothesis_x)  \n",
    "            pred_y = pred_y.reshape(m, 1)\n",
    "\n",
    "            # Compute gradients of weights and bias \n",
    "            dw = (1/m) * np.dot(X.T, (pred_y - y))\n",
    "            db = (1/m) * np.sum(pred_y - y)\n",
    "            \n",
    "            # Update the parameters\n",
    "            self.weights -=  self.lr * dw\n",
    "            self.bias -= self.lr * db\n",
    "            \n",
    "        return self.weights, self.bias\n",
    "            \n",
    "\n"
   ]
  },
  {
   "cell_type": "code",
   "execution_count": 33,
   "metadata": {},
   "outputs": [
    {
     "name": "stdout",
     "output_type": "stream",
     "text": [
      "Training Weights are :  [[ 1.87118392]\n",
      " [-0.40405102]]\n",
      "Training Bias is:  0.42432599069546795\n"
     ]
    }
   ],
   "source": [
    "# Running for training data\n",
    "\n",
    "logit_obj = Logistic_Regression(lr=0.01, iters=1000)\n",
    "weights, bias = logit_obj.gradient_descent(X_train, Y_train)\n",
    "print(\"Training Weights are : \", weights)\n",
    "print(\"Training Bias is: \", bias)\n"
   ]
  },
  {
   "cell_type": "code",
   "execution_count": 34,
   "metadata": {},
   "outputs": [
    {
     "name": "stdout",
     "output_type": "stream",
     "text": [
      "Train accuracy is :  0.97\n",
      "Training classification error is :  0.03\n",
      "Test accuracy is :  0.93\n",
      "Test classification error is :  0.07\n"
     ]
    }
   ],
   "source": [
    "# Finding accuracy and classification error of train data\n",
    "\n",
    "pred_train_y = logit_obj.predict(X_train)\n",
    "pred_train_y = pred_train_y.reshape(X_train.shape[0], 1)\n",
    "train_accuracy = logit_obj.accuracy(Y_train, pred_train_y)\n",
    "print(\"Train accuracy is : \", round(train_accuracy, 2))\n",
    "train_classification_error = logit_obj.classification_error(Y_train, pred_train_y)\n",
    "print(\"Training classification error is : \", round(train_classification_error, 2))\n",
    "\n",
    "# Finding accuracy and classification error of test data\n",
    "pred_y = logit_obj.predict(X_test)\n",
    "pred_y = pred_y.reshape(X_test.shape[0],1)\n",
    "test_accuracy = logit_obj.accuracy(Y_test, pred_y)\n",
    "print(\"Test accuracy is : \", round(test_accuracy, 2))\n",
    "test_classification_error = logit_obj.classification_error(Y_test, pred_y)\n",
    "print(\"Test classification error is : \", round(test_classification_error,2))"
   ]
  },
  {
   "cell_type": "code",
   "execution_count": 35,
   "metadata": {},
   "outputs": [
    {
     "data": {
      "text/plain": [
       "<matplotlib.axes._subplots.AxesSubplot at 0x7fd25ef10fd0>"
      ]
     },
     "execution_count": 35,
     "metadata": {},
     "output_type": "execute_result"
    },
    {
     "data": {
      "image/png": "[encoded data removed]",
      "text/plain": [
       "<Figure size 432x288 with 1 Axes>"
      ]
     },
     "metadata": {
      "needs_background": "light"
     },
     "output_type": "display_data"
    }
   ],
   "source": [
    "# Plotting the decision boundary for training data\n",
    "\n",
    "y_train = np.reshape(Y_train, Y_train.shape[0])\n",
    "plot_decision_regions(X=X_train, y=y_train, clf=logit_obj, legend=2)"
   ]
  },
  {
   "cell_type": "markdown",
   "metadata": {},
   "source": [
    "We can see there are 3 mis classifications in the training data and 2 points are on boundary."
   ]
  },
  {
   "cell_type": "code",
   "execution_count": 36,
   "metadata": {},
   "outputs": [
    {
     "data": {
      "text/plain": [
       "<matplotlib.axes._subplots.AxesSubplot at 0x7fd25edfa490>"
      ]
     },
     "execution_count": 36,
     "metadata": {},
     "output_type": "execute_result"
    },
    {
     "data": {
      "image/png": "[encoded data removed]",
      "text/plain": [
       "<Figure size 432x288 with 1 Axes>"
      ]
     },
     "metadata": {
      "needs_background": "light"
     },
     "output_type": "display_data"
    }
   ],
   "source": [
    "# Plotting the decision boundary for testing data\n",
    "\n",
    "y_test = np.reshape(Y_test, Y_test.shape[0])\n",
    "plot_decision_regions(X=X_test, y=y_test, clf=logit_obj, legend=2)"
   ]
  },
  {
   "cell_type": "markdown",
   "metadata": {},
   "source": [
    "We see there is one misclassification in the test data."
   ]
  },
  {
   "cell_type": "markdown",
   "metadata": {},
   "source": [
    "### Question 8a Logistic Regression and Naive Bayes:\n",
    "For this exercise, use Scikit-Learn in Python.     \n",
    "a) Write down a code in Python (that uses logistic regression in Scikit-Learn) whose inputs are atraining dataset and a test dataset and its output is the classification error on the test set. Report theclassification error on the test set of the dataset used in the previous question.  Plot the data (use different colors for data in different classes) and plot the decision boundary found by the logisticregressions. Compare the results with results of the previous question and justify any discrepancy."
   ]
  },
  {
   "cell_type": "code",
   "execution_count": 37,
   "metadata": {},
   "outputs": [],
   "source": [
    "# Logistic Regression using Sklearn\n",
    "\n",
    "def get_classification_error(X_train, Y_train, X_test, Y_test):\n",
    "    \n",
    "    # Fitting the sklearn Logistic Regression model\n",
    "    model_lr = LogisticRegression(random_state=0).fit(X_train, Y_train)\n",
    "\n",
    "    # Finding the accuracy and classification error for train and test data\n",
    "    trainaccuracy = model_lr.score(X_train, Y_train)\n",
    "    print(\"Training accuracy : \", round(trainaccuracy, 2))\n",
    "    train_error = round(1-trainaccuracy, 2)\n",
    "    testaccuracy = model_lr.score(X_test, Y_test)\n",
    "    print(\"Testing accuracy : \", round(testaccuracy, 2))\n",
    "    test_error = round(1-testaccuracy, 2)\n",
    "    \n",
    "    return model_lr, train_error, test_error"
   ]
  },
  {
   "cell_type": "code",
   "execution_count": 38,
   "metadata": {},
   "outputs": [
    {
     "name": "stdout",
     "output_type": "stream",
     "text": [
      "Training accuracy :  0.97\n",
      "Testing accuracy :  0.93\n",
      "Training classification error :  0.03\n",
      "Testing classification error :  0.07\n"
     ]
    }
   ],
   "source": [
    "model_lr, train_error, test_error = get_classification_error(X_train, Y_train, X_test, Y_test)\n",
    "\n",
    "print(\"Training classification error : \", train_error)\n",
    "print(\"Testing classification error : \", test_error)"
   ]
  },
  {
   "cell_type": "code",
   "execution_count": 39,
   "metadata": {},
   "outputs": [
    {
     "data": {
      "text/plain": [
       "<matplotlib.axes._subplots.AxesSubplot at 0x7fd25ef03610>"
      ]
     },
     "execution_count": 39,
     "metadata": {},
     "output_type": "execute_result"
    },
    {
     "data": {
      "image/png": "[encoded data removed]",
      "text/plain": [
       "<Figure size 432x288 with 1 Axes>"
      ]
     },
     "metadata": {
      "needs_background": "light"
     },
     "output_type": "display_data"
    }
   ],
   "source": [
    "# Plotting the decision boundary for training data using sklearn logistic regression model\n",
    "\n",
    "y_train = np.reshape(Y_train, Y_train.shape[0])\n",
    "plot_decision_regions(X=X_train, y=y_train, clf=model_lr, legend=2)"
   ]
  },
  {
   "cell_type": "code",
   "execution_count": 40,
   "metadata": {},
   "outputs": [
    {
     "data": {
      "text/plain": [
       "<matplotlib.axes._subplots.AxesSubplot at 0x7fd25f318510>"
      ]
     },
     "execution_count": 40,
     "metadata": {},
     "output_type": "execute_result"
    },
    {
     "data": {
      "image/png": "[encoded data removed]",
      "text/plain": [
       "<Figure size 432x288 with 1 Axes>"
      ]
     },
     "metadata": {
      "needs_background": "light"
     },
     "output_type": "display_data"
    }
   ],
   "source": [
    "# Plotting the decision boundary for the test data using sklearn logistic regression model\n",
    "\n",
    "y_test = np.reshape(Y_test, Y_test.shape[0])\n",
    "plot_decision_regions(X=X_test, y=y_test, clf=model_lr, legend=2)"
   ]
  },
  {
   "cell_type": "markdown",
   "metadata": {},
   "source": [
    "**Comparison :**\n",
    "\n",
    "The accuracy and classification error for both models (self and sklearn's) are same and there is no discrepancy."
   ]
  },
  {
   "cell_type": "markdown",
   "metadata": {},
   "source": [
    "### Questions 8b :    \n",
    "Repeat part a by using Naive Bayes from Scikit-Learn"
   ]
  },
  {
   "cell_type": "code",
   "execution_count": 41,
   "metadata": {},
   "outputs": [
    {
     "name": "stdout",
     "output_type": "stream",
     "text": [
      "Test Accuracy: 0.93\n",
      "Test classification error :  0.07\n"
     ]
    }
   ],
   "source": [
    "# Training the Naive Bayes Model using Sklearn\n",
    "\n",
    "model_nb = GaussianNB()\n",
    "model_nb.fit(X_train,Y_train)\n",
    "\n",
    "pred = model_nb.predict(X_test)\n",
    "test_accuracy = metrics.accuracy_score(Y_test, pred)\n",
    "print(\"Test Accuracy:\", round(test_accuracy, 2))\n",
    "print(\"Test classification error : \", round(1-test_accuracy, 2))"
   ]
  },
  {
   "cell_type": "code",
   "execution_count": 42,
   "metadata": {},
   "outputs": [
    {
     "data": {
      "text/plain": [
       "<matplotlib.axes._subplots.AxesSubplot at 0x7fd25ed3e1d0>"
      ]
     },
     "execution_count": 42,
     "metadata": {},
     "output_type": "execute_result"
    },
    {
     "data": {
      "image/png": "[encoded data removed]",
      "text/plain": [
       "<Figure size 432x288 with 1 Axes>"
      ]
     },
     "metadata": {
      "needs_background": "light"
     },
     "output_type": "display_data"
    }
   ],
   "source": [
    "# Plotting Naive Bayes Decision Boundary for test data\n",
    "\n",
    "y_train = np.reshape(Y_train, Y_train.shape[0])\n",
    "plot_decision_regions(X=X_train, y=y_train, clf=model_nb, legend=2)"
   ]
  },
  {
   "cell_type": "code",
   "execution_count": 43,
   "metadata": {},
   "outputs": [
    {
     "data": {
      "text/plain": [
       "<matplotlib.axes._subplots.AxesSubplot at 0x7fd25f34d190>"
      ]
     },
     "execution_count": 43,
     "metadata": {},
     "output_type": "execute_result"
    },
    {
     "data": {
      "image/png": "[encoded data removed]",
      "text/plain": [
       "<Figure size 432x288 with 1 Axes>"
      ]
     },
     "metadata": {
      "needs_background": "light"
     },
     "output_type": "display_data"
    }
   ],
   "source": [
    "# Plotting Naive Bayes Decision Boundary for test data\n",
    "\n",
    "y_test = np.reshape(Y_test, Y_test.shape[0])\n",
    "plot_decision_regions(X=X_test, y=y_test, clf=model_nb, legend=2)"
   ]
  }
 ],
 "metadata": {
  "kernelspec": {
   "display_name": "Python 3",
   "language": "python",
   "name": "python3"
  },
  "language_info": {
   "codemirror_mode": {
    "name": "ipython",
    "version": 3
   },
   "file_extension": ".py",
   "mimetype": "text/x-python",
   "name": "python",
   "nbconvert_exporter": "python",
   "pygments_lexer": "ipython3",
   "version": "3.7.7"
  }
 },
 "nbformat": 4,
 "nbformat_minor": 4
}
