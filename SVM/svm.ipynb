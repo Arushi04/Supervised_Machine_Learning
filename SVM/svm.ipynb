{
 "cells": [
  {
   "cell_type": "markdown",
   "metadata": {},
   "source": [
    "### 7. SVM Implementation.\n",
    "a)  Write  a  code  in  Python  that  takes  as  input  a  training  dataset{(xi,yi)}i=1 to N, a testing  \n",
    "set{(x′i)}i=1 to N′, and outputs the parameters of the hyperplane and classification of the training data and test data into the class{−1,+1}. Here, we only use linear SVM. \n",
    "\n",
    " b) Download the dataset of the HW03 on the piazza page. Run the code on the training dataset to compute the hyperplane and evaluate on the test dataset. Report classification error on the trainingset and classification error on the test set.  Plot the data (use different colors for data in differentclasses) and plot the decision boundary found by the SVM.\n"
   ]
  },
  {
   "cell_type": "code",
   "execution_count": 8,
   "metadata": {},
   "outputs": [],
   "source": [
    "import scipy.io as sio\n",
    "import numpy as np\n",
    "from sklearn.svm import SVC\n",
    "from sklearn.metrics import classification_report, confusion_matrix\n",
    "from mlxtend.plotting import plot_decision_regions\n",
    "import matplotlib.pyplot as plt\n",
    "from sklearn.svm import LinearSVC\n",
    "\n",
    "\n",
    "import warnings\n",
    "warnings.filterwarnings('ignore')"
   ]
  },
  {
   "cell_type": "markdown",
   "metadata": {},
   "source": [
    "Step 1: Loading the dataset"
   ]
  },
  {
   "cell_type": "code",
   "execution_count": 9,
   "metadata": {},
   "outputs": [],
   "source": [
    "data = sio.loadmat(\"hw03_dataset.mat\")\n",
    "X_train = data['X_trn']\n",
    "X_test = data['X_tst']\n",
    "y_train = data['Y_trn']\n",
    "y_test = data['Y_tst']"
   ]
  },
  {
   "cell_type": "markdown",
   "metadata": {},
   "source": [
    "Step 2 : Defining the functions for SVM and classification error"
   ]
  },
  {
   "cell_type": "code",
   "execution_count": 10,
   "metadata": {},
   "outputs": [],
   "source": [
    "def SVM(X_train, Y_train, X_test):  \n",
    "    \n",
    "    model = LinearSVC()\n",
    "    model.fit(X_train, Y_train)\n",
    "    \n",
    "    y_train_pred = model.predict(X_train)\n",
    "    y_test_pred = model.predict(X_test)\n",
    "        \n",
    "    return model, y_train_pred, y_test_pred\n",
    "      \n",
    "    \n",
    "def classification_error(y_true, y_pred):\n",
    "    error = np.sum(y_true != y_pred) / len(y_true) \n",
    "    return error\n"
   ]
  },
  {
   "cell_type": "markdown",
   "metadata": {},
   "source": [
    "Step3 : Calculating traing and test classification"
   ]
  },
  {
   "cell_type": "code",
   "execution_count": 11,
   "metadata": {},
   "outputs": [
    {
     "name": "stdout",
     "output_type": "stream",
     "text": [
      "LinearSVC()\n",
      "Hyperplane parameters are : [ 1.52976159 -0.48494641]\n",
      "Training classification error is : 0.024\n",
      "Testing classification error is : 0.0\n"
     ]
    }
   ],
   "source": [
    "model, y_train_pred, y_test_pred = SVM(X_train, y_train, X_test)\n",
    "print(model)\n",
    "\n",
    "# Getting the hyperplace parameter\n",
    "hyperplane_param = model.coef_[0]\n",
    "print(f\"Hyperplane parameters are : {hyperplane_param}\")\n",
    "\n",
    "# Finding the classification error\n",
    "train_accuracy = model.score(X_train, y_train)\n",
    "test_accuracy = model.score(X_test, y_test)                       \n",
    "\n",
    "print(f'Training classification error is : {round(1-train_accuracy, 3)}')\n",
    "print(f'Testing classification error is : {round(1-test_accuracy, 3)}')"
   ]
  },
  {
   "cell_type": "markdown",
   "metadata": {},
   "source": [
    "We see that training error is 0.024 while testing classification error is 0."
   ]
  },
  {
   "cell_type": "markdown",
   "metadata": {},
   "source": [
    "Step4 : Plotting Decision boundaries for train and test data"
   ]
  },
  {
   "cell_type": "code",
   "execution_count": 12,
   "metadata": {},
   "outputs": [
    {
     "data": {
      "text/plain": [
       "<matplotlib.axes._subplots.AxesSubplot at 0x7f884e004f10>"
      ]
     },
     "execution_count": 12,
     "metadata": {},
     "output_type": "execute_result"
    },
    {
     "data": {
      "image/png": "[encoded data removed]",
      "text/plain": [
       "<Figure size 432x288 with 1 Axes>"
      ]
     },
     "metadata": {
      "needs_background": "light"
     },
     "output_type": "display_data"
    }
   ],
   "source": [
    "# Train data\n",
    "\n",
    "y_train = np.reshape(y_train, y_train.shape[0]) \n",
    "plot_decision_regions(X=X_train, y=y_train, clf=model, legend=2)"
   ]
  },
  {
   "cell_type": "code",
   "execution_count": 13,
   "metadata": {},
   "outputs": [
    {
     "data": {
      "text/plain": [
       "<matplotlib.axes._subplots.AxesSubplot at 0x7f884df99910>"
      ]
     },
     "execution_count": 13,
     "metadata": {},
     "output_type": "execute_result"
    },
    {
     "data": {
      "image/png": "[encoded data removed]",
      "text/plain": [
       "<Figure size 432x288 with 1 Axes>"
      ]
     },
     "metadata": {
      "needs_background": "light"
     },
     "output_type": "display_data"
    }
   ],
   "source": [
    "# Test data\n",
    "\n",
    "y_test = np.reshape(y_test, y_test.shape[0]) \n",
    "plot_decision_regions(X=X_test, y=y_test, clf=model, legend=2)"
   ]
  },
  {
   "cell_type": "markdown",
   "metadata": {},
   "source": []
  }
 ],
 "metadata": {
  "kernelspec": {
   "display_name": "Python 3",
   "language": "python",
   "name": "python3"
  },
  "language_info": {
   "codemirror_mode": {
    "name": "ipython",
    "version": 3
   },
   "file_extension": ".py",
   "mimetype": "text/x-python",
   "name": "python",
   "nbconvert_exporter": "python",
   "pygments_lexer": "ipython3",
   "version": "3.7.7"
  }
 },
 "nbformat": 4,
 "nbformat_minor": 4
}
